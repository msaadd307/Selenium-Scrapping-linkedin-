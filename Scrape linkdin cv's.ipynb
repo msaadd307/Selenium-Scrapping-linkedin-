{
 "cells": [
  {
   "cell_type": "code",
   "execution_count": 1,
   "metadata": {},
   "outputs": [],
   "source": [
    "import os, random, sys, time\n",
    "from bs4 import BeautifulSoup\n",
    "from selenium import webdriver\n",
    "from selenium.webdriver.common.keys import Keys\n",
    "from selenium.common.exceptions import NoSuchElementException\n",
    "import pandas as pd"
   ]
  },
  {
   "cell_type": "code",
   "execution_count": null,
   "metadata": {},
   "outputs": [],
   "source": [
    "driver = webdriver.Chrome()"
   ]
  },
  {
   "cell_type": "code",
   "execution_count": 2,
   "metadata": {},
   "outputs": [],
   "source": [
    "driver = webdriver.Chrome()\n",
    "file = open('login.txt')\n",
    "lines = file.readlines()\n",
    "username =lines[0]\n",
    "password =lines[1]\n",
    "driver.get(\"https://www.linkedin.com/uas/login\")\n",
    "element= driver.find_element_by_id('username')\n",
    "element.send_keys(username)\n",
    "element =driver.find_element_by_id('password')\n",
    "element.send_keys(password)\n",
    "element.submit()\n",
    "driver.get('https://www.linkedin.com/mynetwork/invite-connect/connections/')"
   ]
  },
  {
   "cell_type": "code",
   "execution_count": 3,
   "metadata": {},
   "outputs": [],
   "source": [
    "profilelist=[]\n",
    "visitprofile =[]"
   ]
  },
  {
   "cell_type": "code",
   "execution_count": 4,
   "metadata": {},
   "outputs": [],
   "source": [
    "def profile(soup,profilelist):\n",
    "    profile=[]\n",
    "    results =soup.find('div',{\"class\":'core-rail'})\n",
    "    all_result=results.findAll('a',{'class':'ember-view discover-entity-type-card__link'})\n",
    "    for result in all_result:\n",
    "        user=result.get('href') \n",
    "        profile.append(user)\n",
    "    return profile"
   ]
  },
  {
   "cell_type": "code",
   "execution_count": 5,
   "metadata": {},
   "outputs": [
    {
     "data": {
      "text/plain": [
       "42"
      ]
     },
     "execution_count": 5,
     "metadata": {},
     "output_type": "execute_result"
    }
   ],
   "source": [
    "profile(BeautifulSoup(driver.page_source),profilelist)\n",
    "profilelist= profile(BeautifulSoup(driver.page_source),profilelist)\n",
    "len(profilelist)"
   ]
  },
  {
   "cell_type": "code",
   "execution_count": 6,
   "metadata": {},
   "outputs": [
    {
     "ename": "AttributeError",
     "evalue": "'NoneType' object has no attribute 'text'",
     "output_type": "error",
     "traceback": [
      "\u001b[1;31m---------------------------------------------------------------------------\u001b[0m",
      "\u001b[1;31mAttributeError\u001b[0m                            Traceback (most recent call last)",
      "\u001b[1;32m<ipython-input-6-094610fd1c46>\u001b[0m in \u001b[0;36m<module>\u001b[1;34m\u001b[0m\n\u001b[0;32m     66\u001b[0m         \u001b[1;32mreturn\u001b[0m \u001b[0mskills\u001b[0m\u001b[1;33m\u001b[0m\u001b[1;33m\u001b[0m\u001b[0m\n\u001b[0;32m     67\u001b[0m     \u001b[0mrecords\u001b[0m\u001b[1;33m=\u001b[0m\u001b[1;33m[\u001b[0m\u001b[1;33m]\u001b[0m\u001b[1;33m\u001b[0m\u001b[1;33m\u001b[0m\u001b[0m\n\u001b[1;32m---> 68\u001b[1;33m     \u001b[0mrecords\u001b[0m\u001b[1;33m.\u001b[0m\u001b[0mappend\u001b[0m\u001b[1;33m(\u001b[0m\u001b[1;33m(\u001b[0m\u001b[0mname\u001b[0m\u001b[1;33m(\u001b[0m\u001b[1;33m)\u001b[0m\u001b[1;33m,\u001b[0m\u001b[0mtitle\u001b[0m\u001b[1;33m(\u001b[0m\u001b[1;33m)\u001b[0m\u001b[1;33m,\u001b[0m\u001b[0mplace\u001b[0m\u001b[1;33m(\u001b[0m\u001b[1;33m)\u001b[0m\u001b[1;33m,\u001b[0m\u001b[0mposts\u001b[0m\u001b[1;33m(\u001b[0m\u001b[1;33m)\u001b[0m\u001b[1;33m,\u001b[0m\u001b[0mcompanyname\u001b[0m\u001b[1;33m(\u001b[0m\u001b[1;33m)\u001b[0m\u001b[1;33m,\u001b[0m\u001b[0mexperience\u001b[0m\u001b[1;33m(\u001b[0m\u001b[1;33m)\u001b[0m\u001b[1;33m,\u001b[0m\u001b[0mresponsibility\u001b[0m\u001b[1;33m(\u001b[0m\u001b[1;33m)\u001b[0m\u001b[1;33m,\u001b[0m\u001b[0meducationname\u001b[0m\u001b[1;33m(\u001b[0m\u001b[1;33m)\u001b[0m\u001b[1;33m,\u001b[0m\u001b[0mdegreename\u001b[0m\u001b[1;33m(\u001b[0m\u001b[1;33m)\u001b[0m\u001b[1;33m,\u001b[0m\u001b[0mskills\u001b[0m\u001b[1;33m(\u001b[0m\u001b[1;33m)\u001b[0m\u001b[1;33m)\u001b[0m\u001b[1;33m)\u001b[0m\u001b[1;33m\u001b[0m\u001b[1;33m\u001b[0m\u001b[0m\n\u001b[0m\u001b[0;32m     69\u001b[0m     \u001b[0mdf\u001b[0m \u001b[1;33m=\u001b[0m \u001b[0mpd\u001b[0m\u001b[1;33m.\u001b[0m\u001b[0mDataFrame\u001b[0m\u001b[1;33m(\u001b[0m\u001b[0mrecords\u001b[0m\u001b[1;33m,\u001b[0m \u001b[0mcolumns\u001b[0m\u001b[1;33m=\u001b[0m\u001b[1;33m[\u001b[0m\u001b[1;34m'NAME'\u001b[0m\u001b[1;33m,\u001b[0m\u001b[1;34m'TITLE'\u001b[0m\u001b[1;33m,\u001b[0m\u001b[1;34m'PLACE'\u001b[0m\u001b[1;33m,\u001b[0m\u001b[1;34m'POST'\u001b[0m\u001b[1;33m,\u001b[0m\u001b[1;34m'COMPANY'\u001b[0m\u001b[1;33m,\u001b[0m\u001b[1;34m'EXPRIENCE'\u001b[0m\u001b[1;33m,\u001b[0m\u001b[1;34m'RESPONSIBILITY'\u001b[0m\u001b[1;33m,\u001b[0m\u001b[1;34m'EDUCATION'\u001b[0m\u001b[1;33m,\u001b[0m\u001b[1;34m'DEGREE'\u001b[0m\u001b[1;33m,\u001b[0m\u001b[1;34m'SKILLS'\u001b[0m\u001b[1;33m]\u001b[0m\u001b[1;33m)\u001b[0m\u001b[1;33m\u001b[0m\u001b[1;33m\u001b[0m\u001b[0m\n\u001b[0;32m     70\u001b[0m \u001b[1;33m\u001b[0m\u001b[0m\n",
      "\u001b[1;32m<ipython-input-6-094610fd1c46>\u001b[0m in \u001b[0;36mname\u001b[1;34m()\u001b[0m\n\u001b[0;32m      9\u001b[0m     \u001b[1;32mdef\u001b[0m \u001b[0mname\u001b[0m\u001b[1;33m(\u001b[0m\u001b[1;33m)\u001b[0m\u001b[1;33m:\u001b[0m\u001b[1;33m\u001b[0m\u001b[1;33m\u001b[0m\u001b[0m\n\u001b[0;32m     10\u001b[0m         \u001b[0mresults\u001b[0m \u001b[1;33m=\u001b[0m\u001b[0mresult\u001b[0m\u001b[1;33m.\u001b[0m\u001b[0mfind\u001b[0m\u001b[1;33m(\u001b[0m\u001b[1;34m'li'\u001b[0m\u001b[1;33m,\u001b[0m\u001b[1;33m{\u001b[0m\u001b[1;34m\"class\"\u001b[0m\u001b[1;33m:\u001b[0m\u001b[1;34m'inline t-24 t-black t-normal break-words'\u001b[0m\u001b[1;33m}\u001b[0m\u001b[1;33m)\u001b[0m\u001b[1;33m\u001b[0m\u001b[1;33m\u001b[0m\u001b[0m\n\u001b[1;32m---> 11\u001b[1;33m         \u001b[0mali\u001b[0m\u001b[1;33m=\u001b[0m\u001b[0mresults\u001b[0m\u001b[1;33m.\u001b[0m\u001b[0mtext\u001b[0m\u001b[1;33m.\u001b[0m\u001b[0mstrip\u001b[0m\u001b[1;33m(\u001b[0m\u001b[1;33m)\u001b[0m\u001b[1;33m\u001b[0m\u001b[1;33m\u001b[0m\u001b[0m\n\u001b[0m\u001b[0;32m     12\u001b[0m         \u001b[1;32mreturn\u001b[0m \u001b[0mali\u001b[0m\u001b[1;33m\u001b[0m\u001b[1;33m\u001b[0m\u001b[0m\n\u001b[0;32m     13\u001b[0m     \u001b[1;32mdef\u001b[0m \u001b[0mtitle\u001b[0m\u001b[1;33m(\u001b[0m\u001b[1;33m)\u001b[0m\u001b[1;33m:\u001b[0m\u001b[1;33m\u001b[0m\u001b[1;33m\u001b[0m\u001b[0m\n",
      "\u001b[1;31mAttributeError\u001b[0m: 'NoneType' object has no attribute 'text'"
     ]
    }
   ],
   "source": [
    "while profilelist:\n",
    "    visiting = profilelist.pop()\n",
    "    visitprofile.append(visiting)\n",
    "    link = 'https://www.linkedin.com' + visiting\n",
    "    driver.get(link)\n",
    "    time.sleep(10)\n",
    "    soup=driver.page_source\n",
    "    result=BeautifulSoup(soup,'lxml')\n",
    "    def name():\n",
    "        results =result.find('li',{\"class\":'inline t-24 t-black t-normal break-words'})\n",
    "        ali=results.text.strip()\n",
    "        return ali\n",
    "    def title():\n",
    "        results =result.find('h2',{\"class\":'mt1 t-18 t-black t-normal break-words'})\n",
    "        ali2=results.text.strip()\n",
    "        return ali2\n",
    "    def place():\n",
    "        results =result.find('li',{\"class\":'t-16 t-black t-normal inline-block'})\n",
    "        ali3=results.text.strip()\n",
    "        return ali3\n",
    "    def posts():\n",
    "        prepost=[]\n",
    "        results =result.find('ul',{\"class\":'pv-profile-section__section-info section-info pv-profile-section__section-info--has-no-more'})\n",
    "        ali=results.findAll('h3',{'class':'t-16 t-black t-bold'})\n",
    "        for post in ali:\n",
    "            prepost.append(post.text)\n",
    "        return prepost\n",
    "    def companyname():\n",
    "        precompany=[]\n",
    "        results =result.find('ul',{\"class\":'pv-profile-section__section-info section-info pv-profile-section__section-info--has-no-more'})\n",
    "        ali=results.findAll('p',{'class':'pv-entity__secondary-title t-14 t-black t-normal'})\n",
    "        for post in ali:\n",
    "            precompany.append(post.text)\n",
    "        return precompany\n",
    "    def experience():\n",
    "        noofexprience=[]\n",
    "        results =result.find('ul',{\"class\":'pv-profile-section__section-info section-info pv-profile-section__section-info--has-no-more'})\n",
    "        ali=results.findAll('span',{'class':'pv-entity__bullet-item-v2'})\n",
    "        for post in ali:\n",
    "            noofexprience.append(post.text.strip())\n",
    "        return noofexprience\n",
    "    def responsibility():\n",
    "        responsibility=[]\n",
    "        results =result.find('ul',{\"class\":'pv-profile-section__section-info section-info pv-profile-section__section-info--has-no-more'})\n",
    "        ali=results.findAll('p',{'class':'pv-entity__description t-14 t-black t-normal inline-show-more-text inline-show-more-text--is-collapsed ember-view'})\n",
    "        for post in ali:\n",
    "            responsibility.append(post.text.strip())\n",
    "        return responsibility\n",
    "    def educationname():\n",
    "        schoolname=[]\n",
    "        ali=result.findAll('h3',{'class':'pv-entity__school-name t-16 t-black t-bold'})\n",
    "        for post in ali:\n",
    "            schoolname.append(post.text.strip())\n",
    "        return schoolname\n",
    "    def degreename():\n",
    "        degreename=[]\n",
    "        ali=result.findAll('span',{'class':'pv-entity__comma-item'})\n",
    "        for post in ali:\n",
    "            degreename.append(post.text.strip())\n",
    "        return degreename\n",
    "    def skills():\n",
    "        skills=[]\n",
    "        ali=result.findAll('span',{'class':'pv-skill-category-entity__name-text t-16 t-black t-bold'})\n",
    "        for post in ali:\n",
    "            skills.append(post.text.strip())\n",
    "        return skills\n",
    "    records=[]\n",
    "    records.append((name(),title(),place(),posts(),companyname(),experience(),responsibility(),educationname(),degreename(),skills()))\n",
    "    df = pd.DataFrame(records, columns=['NAME','TITLE','PLACE','POST','COMPANY','EXPRIENCE','RESPONSIBILITY','EDUCATION','DEGREE','SKILLS'])\n",
    "    \n",
    "    "
   ]
  },
  {
   "cell_type": "code",
   "execution_count": 7,
   "metadata": {},
   "outputs": [
    {
     "data": {
      "text/html": [
       "<div>\n",
       "<style scoped>\n",
       "    .dataframe tbody tr th:only-of-type {\n",
       "        vertical-align: middle;\n",
       "    }\n",
       "\n",
       "    .dataframe tbody tr th {\n",
       "        vertical-align: top;\n",
       "    }\n",
       "\n",
       "    .dataframe thead th {\n",
       "        text-align: right;\n",
       "    }\n",
       "</style>\n",
       "<table border=\"1\" class=\"dataframe\">\n",
       "  <thead>\n",
       "    <tr style=\"text-align: right;\">\n",
       "      <th></th>\n",
       "      <th>NAME</th>\n",
       "      <th>TITLE</th>\n",
       "      <th>PLACE</th>\n",
       "      <th>POST</th>\n",
       "      <th>COMPANY</th>\n",
       "      <th>EXPRIENCE</th>\n",
       "      <th>RESPONSIBILITY</th>\n",
       "      <th>EDUCATION</th>\n",
       "      <th>DEGREE</th>\n",
       "      <th>SKILLS</th>\n",
       "    </tr>\n",
       "  </thead>\n",
       "  <tbody>\n",
       "    <tr>\n",
       "      <th>0</th>\n",
       "      <td>Asad Waseem</td>\n",
       "      <td>Web Developer  at AcuSync Technologies Ltd.</td>\n",
       "      <td>Karāchi, Sindh, Pakistan</td>\n",
       "      <td>[Web Developer , Website Developer]</td>\n",
       "      <td>[\\n      AcuSync Technologies Ltd.\\n , \\n     ...</td>\n",
       "      <td>[1 yr 4 mos, 3 yrs]</td>\n",
       "      <td>[]</td>\n",
       "      <td>[Aptech Pakistan]</td>\n",
       "      <td>[Inter, Website  Designing And Development]</td>\n",
       "      <td>[Marketing, Adobe Photoshop, Web, Web Design, ...</td>\n",
       "    </tr>\n",
       "  </tbody>\n",
       "</table>\n",
       "</div>"
      ],
      "text/plain": [
       "          NAME                                        TITLE  \\\n",
       "0  Asad Waseem  Web Developer  at AcuSync Technologies Ltd.   \n",
       "\n",
       "                      PLACE                                 POST  \\\n",
       "0  Karāchi, Sindh, Pakistan  [Web Developer , Website Developer]   \n",
       "\n",
       "                                             COMPANY            EXPRIENCE  \\\n",
       "0  [\\n      AcuSync Technologies Ltd.\\n , \\n     ...  [1 yr 4 mos, 3 yrs]   \n",
       "\n",
       "  RESPONSIBILITY          EDUCATION  \\\n",
       "0             []  [Aptech Pakistan]   \n",
       "\n",
       "                                        DEGREE  \\\n",
       "0  [Inter, Website  Designing And Development]   \n",
       "\n",
       "                                              SKILLS  \n",
       "0  [Marketing, Adobe Photoshop, Web, Web Design, ...  "
      ]
     },
     "execution_count": 7,
     "metadata": {},
     "output_type": "execute_result"
    }
   ],
   "source": [
    "df"
   ]
  },
  {
   "cell_type": "code",
   "execution_count": null,
   "metadata": {},
   "outputs": [],
   "source": []
  },
  {
   "cell_type": "code",
   "execution_count": null,
   "metadata": {},
   "outputs": [],
   "source": []
  },
  {
   "cell_type": "code",
   "execution_count": null,
   "metadata": {},
   "outputs": [],
   "source": []
  },
  {
   "cell_type": "code",
   "execution_count": null,
   "metadata": {},
   "outputs": [],
   "source": []
  },
  {
   "cell_type": "code",
   "execution_count": null,
   "metadata": {},
   "outputs": [],
   "source": []
  }
 ],
 "metadata": {
  "kernelspec": {
   "display_name": "Python 3",
   "language": "python",
   "name": "python3"
  },
  "language_info": {
   "codemirror_mode": {
    "name": "ipython",
    "version": 3
   },
   "file_extension": ".py",
   "mimetype": "text/x-python",
   "name": "python",
   "nbconvert_exporter": "python",
   "pygments_lexer": "ipython3",
   "version": "3.8.5"
  }
 },
 "nbformat": 4,
 "nbformat_minor": 4
}
